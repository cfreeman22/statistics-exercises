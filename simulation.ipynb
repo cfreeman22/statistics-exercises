{
 "cells": [
  {
   "cell_type": "code",
   "execution_count": 1,
   "id": "f5488a69",
   "metadata": {},
   "outputs": [],
   "source": [
    "%matplotlib inline\n",
    "import numpy as np\n",
    "import pandas as pd\n",
    "\n",
    "import viz # curriculum example visualizations\n",
    "\n",
    "np.random.seed(29)"
   ]
  },
  {
   "cell_type": "markdown",
   "id": "96a3cd4a",
   "metadata": {},
   "source": [
    " ### 1 How likely is it that you roll doubles when rolling two dice?\n"
   ]
  },
  {
   "cell_type": "code",
   "execution_count": 2,
   "id": "901d1b0f",
   "metadata": {},
   "outputs": [
    {
     "data": {
      "text/plain": [
       "array([[6, 4],\n",
       "       [5, 6],\n",
       "       [3, 1],\n",
       "       ...,\n",
       "       [5, 6],\n",
       "       [5, 5],\n",
       "       [6, 5]])"
      ]
     },
     "execution_count": 2,
     "metadata": {},
     "output_type": "execute_result"
    }
   ],
   "source": [
    "n_trials = nrows = 100_000\n",
    "n_dice = ncols = 2\n",
    "\n",
    "rolls = np.random.choice([1, 2, 3, 4, 5, 6], n_trials * n_dice).reshape(nrows, ncols)\n",
    "rolls"
   ]
  },
  {
   "cell_type": "code",
   "execution_count": 3,
   "id": "1790e731",
   "metadata": {},
   "outputs": [],
   "source": [
    "#Converting the arrasy into a dataframe \n",
    "df = pd.DataFrame(rolls)"
   ]
  },
  {
   "cell_type": "code",
   "execution_count": 4,
   "id": "3b004a69",
   "metadata": {},
   "outputs": [
    {
     "data": {
      "text/plain": [
       "0.16645"
      ]
     },
     "execution_count": 4,
     "metadata": {},
     "output_type": "execute_result"
    }
   ],
   "source": [
    "# determerning where each row value in column 1 matches the the row value in column 2 and finding the mean\n",
    "(df[0] == df[1]).mean()"
   ]
  },
  {
   "cell_type": "code",
   "execution_count": null,
   "id": "724d6633",
   "metadata": {},
   "outputs": [],
   "source": []
  },
  {
   "cell_type": "markdown",
   "id": "aa3d3321",
   "metadata": {},
   "source": [
    "### 2 If you flip 8 coins, what is the probability of getting exactly 3 heads? What is the probability of getting more than 3 heads?"
   ]
  },
  {
   "cell_type": "code",
   "execution_count": 5,
   "id": "222dd33c",
   "metadata": {},
   "outputs": [],
   "source": [
    "# setting uop the number of trials and and number of coin flips per trial\n",
    "n_trials2 = nrows = 100_000\n",
    "n_flips = ncols = 8 \n",
    "\n",
    "# head is 1 and tail 0\n",
    "flips = np.random.choice([0,1], n_trials2 * n_flips).reshape(nrows, ncols)\n",
    "\n"
   ]
  },
  {
   "cell_type": "code",
   "execution_count": 6,
   "id": "7dc72040",
   "metadata": {},
   "outputs": [
    {
     "data": {
      "text/plain": [
       "array([[1, 0, 0, ..., 1, 0, 0],\n",
       "       [0, 0, 1, ..., 0, 1, 1],\n",
       "       [0, 0, 1, ..., 0, 0, 0],\n",
       "       ...,\n",
       "       [1, 0, 0, ..., 1, 0, 0],\n",
       "       [1, 0, 0, ..., 1, 0, 1],\n",
       "       [0, 0, 0, ..., 0, 1, 0]])"
      ]
     },
     "execution_count": 6,
     "metadata": {},
     "output_type": "execute_result"
    }
   ],
   "source": [
    "flips "
   ]
  },
  {
   "cell_type": "code",
   "execution_count": 7,
   "id": "e2ec7295",
   "metadata": {},
   "outputs": [
    {
     "data": {
      "text/plain": [
       "0.2188"
      ]
     },
     "execution_count": 7,
     "metadata": {},
     "output_type": "execute_result"
    }
   ],
   "source": [
    "# finding where each row has exactly 3 heads per flips, then finding the probaility\n",
    "(flips.sum(axis=1) ==3).mean()"
   ]
  },
  {
   "cell_type": "code",
   "execution_count": 8,
   "id": "84d521c8",
   "metadata": {},
   "outputs": [
    {
     "data": {
      "text/plain": [
       "array([4, 5, 2, ..., 3, 3, 3])"
      ]
     },
     "execution_count": 8,
     "metadata": {},
     "output_type": "execute_result"
    }
   ],
   "source": [
    "flips.sum(axis=1)"
   ]
  },
  {
   "cell_type": "code",
   "execution_count": 37,
   "id": "e60da052",
   "metadata": {},
   "outputs": [
    {
     "data": {
      "text/plain": [
       "0.63588"
      ]
     },
     "execution_count": 37,
     "metadata": {},
     "output_type": "execute_result"
    }
   ],
   "source": [
    "# finding where each row has more than 3 heads per flips, then finding the probaility\n",
    "\n",
    "(flips.sum(axis=1) >3).mean()"
   ]
  },
  {
   "cell_type": "markdown",
   "id": "1d8c8379",
   "metadata": {},
   "source": [
    "### 3 There are approximitely 3 web development cohorts for every 1 data science cohort at Codeup. Assuming that Codeup randomly selects an alumni to put on a billboard, what are the odds that the two billboards I drive past both have data science students on them?\n",
    "\n"
   ]
  },
  {
   "cell_type": "code",
   "execution_count": 10,
   "id": "f19c47a4",
   "metadata": {},
   "outputs": [
    {
     "data": {
      "text/plain": [
       "0"
      ]
     },
     "execution_count": 10,
     "metadata": {},
     "output_type": "execute_result"
    }
   ],
   "source": [
    "# lets use 0 for Web Dev and 1 for data science\n",
    "np.random.choice([0,1], p =(0.75, 0.25))"
   ]
  },
  {
   "cell_type": "code",
   "execution_count": 38,
   "id": "6b6e3de6",
   "metadata": {},
   "outputs": [
    {
     "data": {
      "text/html": [
       "<div>\n",
       "<style scoped>\n",
       "    .dataframe tbody tr th:only-of-type {\n",
       "        vertical-align: middle;\n",
       "    }\n",
       "\n",
       "    .dataframe tbody tr th {\n",
       "        vertical-align: top;\n",
       "    }\n",
       "\n",
       "    .dataframe thead th {\n",
       "        text-align: right;\n",
       "    }\n",
       "</style>\n",
       "<table border=\"1\" class=\"dataframe\">\n",
       "  <thead>\n",
       "    <tr style=\"text-align: right;\">\n",
       "      <th></th>\n",
       "      <th>0</th>\n",
       "      <th>1</th>\n",
       "    </tr>\n",
       "  </thead>\n",
       "  <tbody>\n",
       "    <tr>\n",
       "      <th>0</th>\n",
       "      <td>0</td>\n",
       "      <td>0</td>\n",
       "    </tr>\n",
       "    <tr>\n",
       "      <th>1</th>\n",
       "      <td>0</td>\n",
       "      <td>1</td>\n",
       "    </tr>\n",
       "    <tr>\n",
       "      <th>2</th>\n",
       "      <td>0</td>\n",
       "      <td>1</td>\n",
       "    </tr>\n",
       "    <tr>\n",
       "      <th>3</th>\n",
       "      <td>0</td>\n",
       "      <td>0</td>\n",
       "    </tr>\n",
       "    <tr>\n",
       "      <th>4</th>\n",
       "      <td>1</td>\n",
       "      <td>0</td>\n",
       "    </tr>\n",
       "  </tbody>\n",
       "</table>\n",
       "</div>"
      ],
      "text/plain": [
       "   0  1\n",
       "0  0  0\n",
       "1  0  1\n",
       "2  0  1\n",
       "3  0  0\n",
       "4  1  0"
      ]
     },
     "execution_count": 38,
     "metadata": {},
     "output_type": "execute_result"
    }
   ],
   "source": [
    "n_trials = 100_000\n",
    "n_billboard = 2\n",
    "\n",
    "billboard = np.random.choice([0, 1], p=[.75, .25], size=(n_trials, n_billboard))\n",
    "billboard = pd.DataFrame(billboard)\n",
    "billboard.head()"
   ]
  },
  {
   "cell_type": "code",
   "execution_count": 39,
   "id": "cdbbcd25",
   "metadata": {},
   "outputs": [
    {
     "data": {
      "text/plain": [
       "0.06388"
      ]
     },
     "execution_count": 39,
     "metadata": {},
     "output_type": "execute_result"
    }
   ],
   "source": [
    " # lets find the possiblity of having data science studnt on both billbords\n",
    "(billboard.sum(axis=1) ==2).mean()"
   ]
  },
  {
   "cell_type": "markdown",
   "id": "9a5c6aec",
   "metadata": {},
   "source": [
    "### 4 Codeup students buy, on average, 3 poptart packages with a standard deviation of 1.5 a day from the snack vending machine. If on monday the machine is restocked with 17 poptart packages, how likely is it that I will be able to buy some poptarts on Friday afternoon? (Remember, if you have mean and standard deviation, use the np.random.normal)"
   ]
  },
  {
   "cell_type": "code",
   "execution_count": 32,
   "id": "6e662f73",
   "metadata": {},
   "outputs": [
    {
     "data": {
      "text/html": [
       "<div>\n",
       "<style scoped>\n",
       "    .dataframe tbody tr th:only-of-type {\n",
       "        vertical-align: middle;\n",
       "    }\n",
       "\n",
       "    .dataframe tbody tr th {\n",
       "        vertical-align: top;\n",
       "    }\n",
       "\n",
       "    .dataframe thead th {\n",
       "        text-align: right;\n",
       "    }\n",
       "</style>\n",
       "<table border=\"1\" class=\"dataframe\">\n",
       "  <thead>\n",
       "    <tr style=\"text-align: right;\">\n",
       "      <th></th>\n",
       "      <th>0</th>\n",
       "      <th>1</th>\n",
       "      <th>2</th>\n",
       "      <th>3</th>\n",
       "      <th>4</th>\n",
       "    </tr>\n",
       "  </thead>\n",
       "  <tbody>\n",
       "    <tr>\n",
       "      <th>0</th>\n",
       "      <td>3</td>\n",
       "      <td>2</td>\n",
       "      <td>2</td>\n",
       "      <td>3</td>\n",
       "      <td>5</td>\n",
       "    </tr>\n",
       "    <tr>\n",
       "      <th>1</th>\n",
       "      <td>1</td>\n",
       "      <td>1</td>\n",
       "      <td>4</td>\n",
       "      <td>2</td>\n",
       "      <td>3</td>\n",
       "    </tr>\n",
       "    <tr>\n",
       "      <th>2</th>\n",
       "      <td>2</td>\n",
       "      <td>3</td>\n",
       "      <td>6</td>\n",
       "      <td>4</td>\n",
       "      <td>2</td>\n",
       "    </tr>\n",
       "    <tr>\n",
       "      <th>3</th>\n",
       "      <td>2</td>\n",
       "      <td>3</td>\n",
       "      <td>1</td>\n",
       "      <td>-1</td>\n",
       "      <td>2</td>\n",
       "    </tr>\n",
       "    <tr>\n",
       "      <th>4</th>\n",
       "      <td>4</td>\n",
       "      <td>2</td>\n",
       "      <td>2</td>\n",
       "      <td>4</td>\n",
       "      <td>3</td>\n",
       "    </tr>\n",
       "  </tbody>\n",
       "</table>\n",
       "</div>"
      ],
      "text/plain": [
       "   0  1  2  3  4\n",
       "0  3  2  2  3  5\n",
       "1  1  1  4  2  3\n",
       "2  2  3  6  4  2\n",
       "3  2  3  1 -1  2\n",
       "4  4  2  2  4  3"
      ]
     },
     "execution_count": 32,
     "metadata": {},
     "output_type": "execute_result"
    }
   ],
   "source": [
    "n_rows = 100_000\n",
    "\n",
    "ncols = 5\n",
    "\n",
    "rolls = np.random.normal(3,1.5, n_rows * ncols).astype(int).reshape(n_rows, ncols)\n",
    "\n",
    "\n",
    "df = pd.DataFrame(rolls)\n",
    "\n",
    "df.head(5)"
   ]
  },
  {
   "cell_type": "code",
   "execution_count": 35,
   "id": "84eaa5ca",
   "metadata": {},
   "outputs": [],
   "source": [
    "odds = df.apply(lambda row: row.values.sum() < 17, axis=1).mean()"
   ]
  },
  {
   "cell_type": "code",
   "execution_count": 36,
   "id": "eb346c32",
   "metadata": {},
   "outputs": [
    {
     "data": {
      "text/plain": [
       "0.87855"
      ]
     },
     "execution_count": 36,
     "metadata": {},
     "output_type": "execute_result"
    }
   ],
   "source": [
    "odds"
   ]
  },
  {
   "cell_type": "markdown",
   "id": "7e813964",
   "metadata": {},
   "source": [
    "### 5 Compare Heights\n",
    "\n",
    " - Men have an average height of 178 cm and standard deviation of 8cm.\n",
    " - Women have a mean of 170, sd = 6cm.\n",
    " - Since you have means and standard deviations, you can use np.random.normal to generate observations.\n",
    " - If a man and woman are chosen at random, P(woman taller than man)?"
   ]
  },
  {
   "cell_type": "code",
   "execution_count": 46,
   "id": "7cd8bdff",
   "metadata": {},
   "outputs": [],
   "source": [
    "men_heights = np.random.normal(178, 8, 100_000)\n",
    "women_heights = np.random.normal(170, 6, 100_000)"
   ]
  },
  {
   "cell_type": "code",
   "execution_count": 47,
   "id": "b7f80176",
   "metadata": {},
   "outputs": [
    {
     "data": {
      "text/html": [
       "<div>\n",
       "<style scoped>\n",
       "    .dataframe tbody tr th:only-of-type {\n",
       "        vertical-align: middle;\n",
       "    }\n",
       "\n",
       "    .dataframe tbody tr th {\n",
       "        vertical-align: top;\n",
       "    }\n",
       "\n",
       "    .dataframe thead th {\n",
       "        text-align: right;\n",
       "    }\n",
       "</style>\n",
       "<table border=\"1\" class=\"dataframe\">\n",
       "  <thead>\n",
       "    <tr style=\"text-align: right;\">\n",
       "      <th></th>\n",
       "      <th>men_heights</th>\n",
       "      <th>women_heights</th>\n",
       "      <th>woman_is_taller</th>\n",
       "    </tr>\n",
       "  </thead>\n",
       "  <tbody>\n",
       "    <tr>\n",
       "      <th>0</th>\n",
       "      <td>174.000669</td>\n",
       "      <td>170.408757</td>\n",
       "      <td>False</td>\n",
       "    </tr>\n",
       "    <tr>\n",
       "      <th>1</th>\n",
       "      <td>168.013373</td>\n",
       "      <td>168.526825</td>\n",
       "      <td>True</td>\n",
       "    </tr>\n",
       "    <tr>\n",
       "      <th>2</th>\n",
       "      <td>180.497126</td>\n",
       "      <td>166.057511</td>\n",
       "      <td>False</td>\n",
       "    </tr>\n",
       "    <tr>\n",
       "      <th>3</th>\n",
       "      <td>187.611419</td>\n",
       "      <td>172.701316</td>\n",
       "      <td>False</td>\n",
       "    </tr>\n",
       "    <tr>\n",
       "      <th>4</th>\n",
       "      <td>183.274299</td>\n",
       "      <td>154.929990</td>\n",
       "      <td>False</td>\n",
       "    </tr>\n",
       "    <tr>\n",
       "      <th>...</th>\n",
       "      <td>...</td>\n",
       "      <td>...</td>\n",
       "      <td>...</td>\n",
       "    </tr>\n",
       "    <tr>\n",
       "      <th>99995</th>\n",
       "      <td>181.464613</td>\n",
       "      <td>167.543139</td>\n",
       "      <td>False</td>\n",
       "    </tr>\n",
       "    <tr>\n",
       "      <th>99996</th>\n",
       "      <td>183.070324</td>\n",
       "      <td>159.885632</td>\n",
       "      <td>False</td>\n",
       "    </tr>\n",
       "    <tr>\n",
       "      <th>99997</th>\n",
       "      <td>165.981355</td>\n",
       "      <td>168.142515</td>\n",
       "      <td>True</td>\n",
       "    </tr>\n",
       "    <tr>\n",
       "      <th>99998</th>\n",
       "      <td>187.350336</td>\n",
       "      <td>170.636288</td>\n",
       "      <td>False</td>\n",
       "    </tr>\n",
       "    <tr>\n",
       "      <th>99999</th>\n",
       "      <td>183.774714</td>\n",
       "      <td>169.446837</td>\n",
       "      <td>False</td>\n",
       "    </tr>\n",
       "  </tbody>\n",
       "</table>\n",
       "<p>100000 rows × 3 columns</p>\n",
       "</div>"
      ],
      "text/plain": [
       "       men_heights  women_heights  woman_is_taller\n",
       "0       174.000669     170.408757            False\n",
       "1       168.013373     168.526825             True\n",
       "2       180.497126     166.057511            False\n",
       "3       187.611419     172.701316            False\n",
       "4       183.274299     154.929990            False\n",
       "...            ...            ...              ...\n",
       "99995   181.464613     167.543139            False\n",
       "99996   183.070324     159.885632            False\n",
       "99997   165.981355     168.142515             True\n",
       "99998   187.350336     170.636288            False\n",
       "99999   183.774714     169.446837            False\n",
       "\n",
       "[100000 rows x 3 columns]"
      ]
     },
     "execution_count": 47,
     "metadata": {},
     "output_type": "execute_result"
    }
   ],
   "source": [
    "df = pd.DataFrame({'men_heights':men_heights, 'women_heights': women_heights})\n",
    "df['woman_is_taller'] = df['women_heights'] > df['men_heights']\n",
    "\n",
    "\n",
    "df"
   ]
  },
  {
   "cell_type": "code",
   "execution_count": 48,
   "id": "07a7cf49",
   "metadata": {},
   "outputs": [
    {
     "data": {
      "text/plain": [
       "0.21162"
      ]
     },
     "execution_count": 48,
     "metadata": {},
     "output_type": "execute_result"
    }
   ],
   "source": [
    "# probability of woman chosen at random being taller \n",
    "\n",
    "df.woman_is_taller.mean()"
   ]
  },
  {
   "cell_type": "markdown",
   "id": "2be3b0b8",
   "metadata": {},
   "source": [
    "### 6 When installing anaconda on a student's computer, there's a 1 in 250 chance that the download is corrupted and the installation fails. What are the odds that after having 50 students download anaconda, no one has an installation issue? 100 students?\n",
    "\n",
    "###  instructor's review ***\n",
    "\n",
    "- What is the probability that we observe an installation issue within the first 150 students that download anaconda?\n",
    "\n",
    "- How likely is it that 450 students all download anaconda without an issue?"
   ]
  },
  {
   "cell_type": "code",
   "execution_count": 49,
   "id": "db63ab3c",
   "metadata": {},
   "outputs": [],
   "source": [
    "def anaconda_problem(number_of_students):\n",
    "    \n",
    "    nrows = 100_000 # set rows to number of simulations\n",
    "    ncols = number_of_students # set columns to number of students in each simulation\n",
    "\n",
    "    # create list with 249 falses and one true\n",
    "    issue_range = [False for r in range(1,250)]\n",
    "    issue_range.append(True)\n",
    "\n",
    "    # use random.choice to create an arrepresenting whether there was an issue with a given student's Anaconda install\n",
    "    # reshape the dataframe into trial groups of the desiered number of students\n",
    "    installs = np.random.choice(issue_range, nrows * ncols).reshape(nrows, ncols)\n",
    "\n",
    "    # convert to data frame\n",
    "    df = pd.DataFrame(installs)\n",
    "\n",
    "    # Sum the number of True values in each row (trial) \n",
    "    # create a boolian array that shows true for each row (trial) that had no Trues\n",
    "    # Take the mean of that array to get the odds of not encountering any problems in the trial group\n",
    "    no_problems = df.apply(lambda row: row.values.sum() == 0, axis=1).mean()\n",
    "    \n",
    "    # Sum the number of True values in each row (trial) \n",
    "    # create a boolian array that shows true for each row (trial) that had no Trues\n",
    "    # Take the mean of that array to get the odds encountering any problems in the trial group\n",
    "    problems = df.apply(lambda row: row.values.sum() > 0, axis=1).mean()\n",
    "\n",
    "    print(f'The odds of {number_of_students} students downloading Anaconda without a problem are {round(no_problems*100)}%')\n",
    "    print(f'The odds of {number_of_students} students downloading Anaconda encountering at least one problem are {round(problems*100)}%')"
   ]
  },
  {
   "cell_type": "code",
   "execution_count": 50,
   "id": "96b52273",
   "metadata": {},
   "outputs": [
    {
     "name": "stdout",
     "output_type": "stream",
     "text": [
      "The odds of 50 students downloading Anaconda without a problem are 82%\n",
      "The odds of 50 students downloading Anaconda encountering at least one problem are 18%\n"
     ]
    }
   ],
   "source": [
    "#What are the odds that after having 50 students download anaconda, no one has an installation issue?\n",
    "anaconda_problem(50)\n"
   ]
  },
  {
   "cell_type": "code",
   "execution_count": 51,
   "id": "fc3c71d2",
   "metadata": {},
   "outputs": [
    {
     "name": "stdout",
     "output_type": "stream",
     "text": [
      "The odds of 100 students downloading Anaconda without a problem are 67%\n",
      "The odds of 100 students downloading Anaconda encountering at least one problem are 33%\n"
     ]
    }
   ],
   "source": [
    "##What are the odds that after having 100 students download anaconda, no one has an installation issue?\n",
    "\n",
    "anaconda_problem(100)"
   ]
  },
  {
   "cell_type": "code",
   "execution_count": 52,
   "id": "2cf56e2e",
   "metadata": {},
   "outputs": [
    {
     "name": "stdout",
     "output_type": "stream",
     "text": [
      "The odds of 150 students downloading Anaconda without a problem are 55%\n",
      "The odds of 150 students downloading Anaconda encountering at least one problem are 45%\n"
     ]
    }
   ],
   "source": [
    "# What is the probability that we observe an installation issue within the first 150 students that download anaconda?¶\n",
    "\n",
    "anaconda_problem(150)"
   ]
  },
  {
   "cell_type": "code",
   "execution_count": 53,
   "id": "533fea3f",
   "metadata": {},
   "outputs": [
    {
     "name": "stdout",
     "output_type": "stream",
     "text": [
      "The odds of 450 students downloading Anaconda without a problem are 17%\n",
      "The odds of 450 students downloading Anaconda encountering at least one problem are 83%\n"
     ]
    }
   ],
   "source": [
    "#How likely is it that 450 students all download anaconda without an issue?\n",
    "anaconda_problem(450)"
   ]
  },
  {
   "cell_type": "markdown",
   "id": "53286307",
   "metadata": {},
   "source": [
    "### 7 There's a 70% chance on any given day that there will be at least one food truck at Travis Park. However, you haven't seen a food truck there in 3 days. How unlikely is this?¶\n",
    "\n",
    "###  instuctor's review ***\n",
    "- How likely is it that a food truck will show up sometime this week?"
   ]
  },
  {
   "cell_type": "code",
   "execution_count": 54,
   "id": "cde192ae",
   "metadata": {},
   "outputs": [],
   "source": [
    "def food_truck(days):\n",
    "    \n",
    "    # Remaining week days\n",
    "    nrows = 100_000 # set rows to number of simulations\n",
    "    ncols = days      # set columns to number of days in each simulation\n",
    "\n",
    "    # create array with each value representing if a food truck has been spotted that day\n",
    "    # reshape the array into trial groups of the desiered number of days\n",
    "    sightings = np.random.choice([True, False], nrows * ncols, p=[.7,.3]).reshape(nrows, ncols)\n",
    "\n",
    "    # convert to data frame\n",
    "    df = pd.DataFrame(sightings)\n",
    "\n",
    "    # Sum the number of True values in each row (trial) \n",
    "    # create a boolian array that shows true for each row (trial) that had no Trues\n",
    "    # Take the mean of that array to get the odds of not encountering any trucks in the specified number of days\n",
    "    no_truck = df.apply(lambda row: row.values.sum() == 0, axis=1).mean()\n",
    "    \n",
    "    # Sum the number of True values in each row (trial) \n",
    "    # create a boolian array that shows true for each row (trial) that had no Trues\n",
    "    # Take the mean of that array to get the odds spotting at least one tuck in the desiered number of days\n",
    "    truck = df.apply(lambda row: row.values.sum() > 0, axis=1).mean()\n",
    "\n",
    "    print(f'The odds of not seeing a food truck in Travis Park for {days} days is {round(no_truck*100)}%')\n",
    "    print(f'The odds of seeing at least one food truck in Travis Park in {days} days is {round(truck*100)}%')"
   ]
  },
  {
   "cell_type": "code",
   "execution_count": 55,
   "id": "8ce0398d",
   "metadata": {},
   "outputs": [
    {
     "name": "stdout",
     "output_type": "stream",
     "text": [
      "The odds of not seeing a food truck in Travis Park for 1 days is 30%\n",
      "The odds of seeing at least one food truck in Travis Park in 1 days is 70%\n",
      "\n",
      "The odds of not seeing a food truck in Travis Park for 2 days is 9%\n",
      "The odds of seeing at least one food truck in Travis Park in 2 days is 91%\n",
      "\n",
      "The odds of not seeing a food truck in Travis Park for 3 days is 3%\n",
      "The odds of seeing at least one food truck in Travis Park in 3 days is 97%\n",
      "\n",
      "The odds of not seeing a food truck in Travis Park for 4 days is 1%\n",
      "The odds of seeing at least one food truck in Travis Park in 4 days is 99%\n",
      "\n",
      "The odds of not seeing a food truck in Travis Park for 5 days is 0%\n",
      "The odds of seeing at least one food truck in Travis Park in 5 days is 100%\n",
      "\n",
      "The odds of not seeing a food truck in Travis Park for 6 days is 0%\n",
      "The odds of seeing at least one food truck in Travis Park in 6 days is 100%\n",
      "\n",
      "The odds of not seeing a food truck in Travis Park for 7 days is 0%\n",
      "The odds of seeing at least one food truck in Travis Park in 7 days is 100%\n",
      "\n"
     ]
    }
   ],
   "source": [
    "for r in range(1,8):\n",
    "    food_truck(r)\n",
    "    print()"
   ]
  },
  {
   "cell_type": "markdown",
   "id": "8364845c",
   "metadata": {},
   "source": [
    "### 8) If 23 people are in the same room, what are the odds that two of them share a birthday? What if it's 20 people? 40?¶\n",
    "\n",
    "### Instructor's review ***"
   ]
  },
  {
   "cell_type": "code",
   "execution_count": 56,
   "id": "268021ac",
   "metadata": {},
   "outputs": [],
   "source": [
    "def shared_birthday(people):\n",
    "\n",
    "    nrows = 100_000 # set rows to number of simulations\n",
    "    ncols = people  # set columns to number of people in each simulation\n",
    "\n",
    "    # create array with each value representing the numbered day of the year that person was born on. (This ignores leap years)\n",
    "    # reshape the aray into trial groups\n",
    "    sightings = np.random.choice([r for r in range(366)], nrows * ncols).reshape(nrows, ncols)\n",
    "\n",
    "    # convert to data frame\n",
    "    df = pd.DataFrame(sightings)\n",
    "\n",
    "    # Add boolian column to df showing weather there are less unique numbers in each row (trial) than there are total columns\n",
    "    df['matching_birthdays'] = df.nunique(axis=1) < ncols\n",
    "\n",
    "    # get mean of calculation True/False columns\n",
    "    # format and print results\n",
    "    matching_birthdays = df['matching_birthdays'].mean()\n",
    "\n",
    "    # print result\n",
    "    print(f'The odds of a room of {ncols} people having at least two people that share a birthday are {round(matching_birthdays*100)}%')"
   ]
  },
  {
   "cell_type": "code",
   "execution_count": 57,
   "id": "1d69cab3",
   "metadata": {},
   "outputs": [
    {
     "name": "stdout",
     "output_type": "stream",
     "text": [
      "The odds of a room of 23 people having at least two people that share a birthday are 51%\n",
      "The odds of a room of 20 people having at least two people that share a birthday are 41%\n",
      "The odds of a room of 40 people having at least two people that share a birthday are 89%\n"
     ]
    }
   ],
   "source": [
    "num_list = [23, 20, 40]\n",
    "\n",
    "for num in num_list:\n",
    "    shared_birthday(num)"
   ]
  },
  {
   "cell_type": "code",
   "execution_count": null,
   "id": "4bf4547c",
   "metadata": {},
   "outputs": [],
   "source": []
  }
 ],
 "metadata": {
  "kernelspec": {
   "display_name": "Python 3",
   "language": "python",
   "name": "python3"
  },
  "language_info": {
   "codemirror_mode": {
    "name": "ipython",
    "version": 3
   },
   "file_extension": ".py",
   "mimetype": "text/x-python",
   "name": "python",
   "nbconvert_exporter": "python",
   "pygments_lexer": "ipython3",
   "version": "3.8.8"
  }
 },
 "nbformat": 4,
 "nbformat_minor": 5
}
